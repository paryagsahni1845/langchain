{
 "cells": [
  {
   "cell_type": "markdown",
   "id": "1ac3c24f",
   "metadata": {},
   "source": [
    "## character text splitter\n",
    "\n",
    "breaks large documents into smaller, manageable chunks based on characters.\n",
    "It works by scanning the raw text and cutting it at specific separators (like \\n\\n, space, or custom markers).\n",
    "You can control the chunk size (maximum characters per piece) and chunk overlap (how many characters repeat between chunks).\n",
    "This is especially useful when text is too big for LLM context windows.\n",
    "It helps preserve continuity across chunks while making embeddings more efficient."
   ]
  },
  {
   "cell_type": "code",
   "execution_count": 1,
   "id": "62742308",
   "metadata": {},
   "outputs": [
    {
     "data": {
      "text/plain": [
       "[Document(metadata={'source': 'speech.txt'}, page_content='Good morning everyone,  \\nI am very happy to be here today.  \\nFirst of all, I want to thank you all for giving me this opportunity to speak.  \\n\\nToday, I want to share a few thoughts about the importance of learning and growth.  \\nLearning is a lifelong journey. It does not stop after school or college.  \\nEvery experience in life teaches us something new, and every challenge helps us grow stronger.  \\n\\nWe should never be afraid of making mistakes, because mistakes are proof that we are trying.  \\nWhat matters is that we learn from them and keep moving forward.  \\n\\nSo let us stay curious, stay motivated, and never stop improving ourselves.  \\nThank you.\\n')]"
      ]
     },
     "execution_count": 1,
     "metadata": {},
     "output_type": "execute_result"
    }
   ],
   "source": [
    "from langchain_community.document_loaders import TextLoader\n",
    "\n",
    "loader = TextLoader('speech.txt')\n",
    "doc = loader.load()\n",
    "doc"
   ]
  },
  {
   "cell_type": "code",
   "execution_count": 11,
   "id": "f8437cbc",
   "metadata": {},
   "outputs": [
    {
     "name": "stderr",
     "output_type": "stream",
     "text": [
      "Created a chunk of size 141, which is longer than the specified 100\n",
      "Created a chunk of size 257, which is longer than the specified 100\n",
      "Created a chunk of size 161, which is longer than the specified 100\n"
     ]
    },
    {
     "data": {
      "text/plain": [
       "[Document(metadata={'source': 'speech.txt'}, page_content='Good morning everyone,  \\nI am very happy to be here today.  \\nFirst of all, I want to thank you all for giving me this opportunity to speak.'),\n",
       " Document(metadata={'source': 'speech.txt'}, page_content='Today, I want to share a few thoughts about the importance of learning and growth.  \\nLearning is a lifelong journey. It does not stop after school or college.  \\nEvery experience in life teaches us something new, and every challenge helps us grow stronger.'),\n",
       " Document(metadata={'source': 'speech.txt'}, page_content='We should never be afraid of making mistakes, because mistakes are proof that we are trying.  \\nWhat matters is that we learn from them and keep moving forward.'),\n",
       " Document(metadata={'source': 'speech.txt'}, page_content='So let us stay curious, stay motivated, and never stop improving ourselves.  \\nThank you.')]"
      ]
     },
     "execution_count": 11,
     "metadata": {},
     "output_type": "execute_result"
    }
   ],
   "source": [
    "from langchain_text_splitters import CharacterTextSplitter\n",
    "splitter = CharacterTextSplitter(separator=\"\\n\\n\",chunk_size=100,chunk_overlap=20)\n",
    "splitter.split_documents(doc)"
   ]
  },
  {
   "cell_type": "code",
   "execution_count": 12,
   "id": "7336fffd",
   "metadata": {},
   "outputs": [
    {
     "data": {
      "text/plain": [
       "'Good morning everyone,  \\nI am very happy to be here today.  \\nFirst of all, I want to thank you all for giving me this opportunity to speak.  \\n\\nToday, I want to share a few thoughts about the importance of learning and growth.  \\nLearning is a lifelong journey. It does not stop after school or college.  \\nEvery experience in life teaches us something new, and every challenge helps us grow stronger.  \\n\\nWe should never be afraid of making mistakes, because mistakes are proof that we are trying.  \\nWhat matters is that we learn from them and keep moving forward.  \\n\\nSo let us stay curious, stay motivated, and never stop improving ourselves.  \\nThank you.\\n'"
      ]
     },
     "execution_count": 12,
     "metadata": {},
     "output_type": "execute_result"
    }
   ],
   "source": [
    "speech =\"\"\n",
    "with open(\"speech.txt\") as f:\n",
    "    speech=f.read()\n",
    "\n",
    "speech    "
   ]
  },
  {
   "cell_type": "code",
   "execution_count": 13,
   "id": "94bccc09",
   "metadata": {},
   "outputs": [
    {
     "name": "stderr",
     "output_type": "stream",
     "text": [
      "Created a chunk of size 141, which is longer than the specified 40\n",
      "Created a chunk of size 257, which is longer than the specified 40\n",
      "Created a chunk of size 161, which is longer than the specified 40\n"
     ]
    },
    {
     "name": "stdout",
     "output_type": "stream",
     "text": [
      "page_content='Good morning everyone,  \n",
      "I am very happy to be here today.  \n",
      "First of all, I want to thank you all for giving me this opportunity to speak.'\n"
     ]
    }
   ],
   "source": [
    "splitter = CharacterTextSplitter(chunk_size = 40 , chunk_overlap=10)\n",
    "text=splitter.create_documents([speech])\n",
    "print(text[0])\n"
   ]
  },
  {
   "cell_type": "code",
   "execution_count": null,
   "id": "039b8889",
   "metadata": {},
   "outputs": [],
   "source": []
  }
 ],
 "metadata": {
  "kernelspec": {
   "display_name": "lenv",
   "language": "python",
   "name": "python3"
  },
  "language_info": {
   "codemirror_mode": {
    "name": "ipython",
    "version": 3
   },
   "file_extension": ".py",
   "mimetype": "text/x-python",
   "name": "python",
   "nbconvert_exporter": "python",
   "pygments_lexer": "ipython3",
   "version": "3.12.4"
  }
 },
 "nbformat": 4,
 "nbformat_minor": 5
}
