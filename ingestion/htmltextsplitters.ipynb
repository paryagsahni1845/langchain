{
 "cells": [
  {
   "cell_type": "markdown",
   "id": "9e44bc02",
   "metadata": {},
   "source": [
    "## HTML Text Splitters\n",
    "HTML Text Splitters in LangChain are used to split raw HTML documents into smaller, manageable chunks.\n",
    "They remove HTML tags while keeping the text content readable.\n",
    "Useful for web scraping or loading webpages where you only need the text body.\n",
    "They allow chunk size and overlap configuration to control granularity.\n",
    "This helps in feeding clean, structured text into LLM pipelines for better performance."
   ]
  },
  {
   "cell_type": "code",
   "execution_count": null,
   "id": "3bd136f7",
   "metadata": {},
   "outputs": [],
   "source": [
    "from langchain_community.document_loaders import "
   ]
  },
  {
   "cell_type": "code",
   "execution_count": 2,
   "id": "ad9315f4",
   "metadata": {},
   "outputs": [
    {
     "data": {
      "text/plain": [
       "[Document(metadata={'header 1': 'Virat Kohli'}, page_content='Virat Kohli'),\n",
       " Document(metadata={'header 1': 'Virat Kohli'}, page_content='Indian cricketer and former captain.'),\n",
       " Document(metadata={'header 1': 'Virat Kohli', 'header 2': 'Career'}, page_content='Career'),\n",
       " Document(metadata={'header 1': 'Virat Kohli', 'header 2': 'Career'}, page_content='Holds numerous international records.')]"
      ]
     },
     "execution_count": 2,
     "metadata": {},
     "output_type": "execute_result"
    }
   ],
   "source": [
    "from langchain_text_splitters import HTMLHeaderTextSplitter\n",
    "string =  \"\"\"\n",
    "<h1>Virat Kohli</h1>\n",
    "<p>Indian cricketer and former captain.</p>\n",
    "<h2>Career</h2>\n",
    "<p>Holds numerous international records.</p>\n",
    "\"\"\"\n",
    "\n",
    "headers_to_split_on=[\n",
    "    (\"h1\",\"header 1\"),\n",
    "    (\"h2\",\"header 2\"),\n",
    "]\n",
    "\n",
    "splitter = HTMLHeaderTextSplitter(headers_to_split_on)\n",
    "headers_to_split=splitter.split_text(string)\n",
    "headers_to_split"
   ]
  },
  {
   "cell_type": "code",
   "execution_count": 4,
   "id": "8a240b7c",
   "metadata": {},
   "outputs": [
    {
     "data": {
      "text/plain": [
       "[Document(metadata={}, page_content='https://stanfordhealthcare.org/')]"
      ]
     },
     "execution_count": 4,
     "metadata": {},
     "output_type": "execute_result"
    }
   ],
   "source": [
    "url =\"https://stanfordhealthcare.org/\"\n",
    "headers_to_split_on=[\n",
    "    (\"h1\",\"header 1\"),\n",
    "    (\"h2\",\"header 2\"),\n",
    "]\n",
    "\n",
    "splitter = HTMLHeaderTextSplitter(headers_to_split_on)\n",
    "headers_to_split=splitter.split_text(url)\n",
    "headers_to_split"
   ]
  },
  {
   "cell_type": "code",
   "execution_count": null,
   "id": "c067d14f",
   "metadata": {},
   "outputs": [],
   "source": []
  }
 ],
 "metadata": {
  "kernelspec": {
   "display_name": "lenv",
   "language": "python",
   "name": "python3"
  },
  "language_info": {
   "codemirror_mode": {
    "name": "ipython",
    "version": 3
   },
   "file_extension": ".py",
   "mimetype": "text/x-python",
   "name": "python",
   "nbconvert_exporter": "python",
   "pygments_lexer": "ipython3",
   "version": "3.12.4"
  }
 },
 "nbformat": 4,
 "nbformat_minor": 5
}
