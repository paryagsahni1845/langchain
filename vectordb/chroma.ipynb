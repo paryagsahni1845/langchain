{
 "cells": [
  {
   "cell_type": "markdown",
   "id": "327b6277",
   "metadata": {},
   "source": [
    "## chroma db\n",
    "Chroma DB is an open-source vector database for storing embeddings with built-in persistence.\n",
    "It’s used for semantic and similarity search across text, images, or audio.\n",
    "Unlike FAISS, it supports metadata filtering and query-based retrieval out of the box.\n",
    "Python interface is simple: Chroma.from_documents(docs, embeddings) to store and db.similarity_search(query) to retrieve.\n",
    "It’s production-ready, scalable, and ideal as a retriever in ML/NLP pipelines."
   ]
  },
  {
   "cell_type": "code",
   "execution_count": 2,
   "id": "1c0777cd",
   "metadata": {},
   "outputs": [],
   "source": [
    "from langchain_chroma import Chroma\n",
    "from langchain_community.document_loaders import TextLoader\n",
    "from langchain_community.embeddings import OllamaEmbeddings\n",
    "from langchain_text_splitters import RecursiveCharacterTextSplitter\n",
    "\n",
    "loader = TextLoader(\"speech.txt\")\n",
    "document = loader.load()\n",
    "text_splitter = RecursiveCharacterTextSplitter(chunk_size=50, chunk_overlap=10)\n",
    "split = text_splitter.split_documents(document)"
   ]
  },
  {
   "cell_type": "code",
   "execution_count": 6,
   "id": "7cee6eb2",
   "metadata": {},
   "outputs": [
    {
     "data": {
      "text/plain": [
       "<langchain_chroma.vectorstores.Chroma at 0x1e6cb44d340>"
      ]
     },
     "execution_count": 6,
     "metadata": {},
     "output_type": "execute_result"
    }
   ],
   "source": [
    "embedding = OllamaEmbeddings(model=\"gemma:2b\")\n",
    "db = Chroma.from_documents(documents=split,embedding=embedding)\n",
    "db"
   ]
  },
  {
   "cell_type": "code",
   "execution_count": 7,
   "id": "886a2b3e",
   "metadata": {},
   "outputs": [
    {
     "data": {
      "text/plain": [
       "'about the importance of learning and growth.'"
      ]
     },
     "execution_count": 7,
     "metadata": {},
     "output_type": "execute_result"
    }
   ],
   "source": [
    "query = \"Find speeches or texts about the importance of continuous learning, personal growth, and motivation.\"\n",
    "docs = db.similarity_search(query)\n",
    "docs[0].page_content"
   ]
  },
  {
   "cell_type": "markdown",
   "id": "401dabfa",
   "metadata": {},
   "source": [
    "save and load"
   ]
  },
  {
   "cell_type": "code",
   "execution_count": 8,
   "id": "0eb864a3",
   "metadata": {},
   "outputs": [],
   "source": [
    "db=Chroma.from_documents(documents=split,embedding=embedding,persist_directory=\"./chroma_db\")"
   ]
  },
  {
   "cell_type": "code",
   "execution_count": 9,
   "id": "d240f410",
   "metadata": {},
   "outputs": [
    {
     "data": {
      "text/plain": [
       "'about the importance of learning and growth.'"
      ]
     },
     "execution_count": 9,
     "metadata": {},
     "output_type": "execute_result"
    }
   ],
   "source": [
    "db2 = Chroma(persist_directory=\"./chroma_db\",embedding_function=embedding)\n",
    "docs=db2.similarity_search(query)\n",
    "docs[0].page_content"
   ]
  },
  {
   "cell_type": "markdown",
   "id": "63d03b30",
   "metadata": {},
   "source": [
    "retreiver"
   ]
  },
  {
   "cell_type": "code",
   "execution_count": 10,
   "id": "7c98b6db",
   "metadata": {},
   "outputs": [
    {
     "data": {
      "text/plain": [
       "'about the importance of learning and growth.'"
      ]
     },
     "execution_count": 10,
     "metadata": {},
     "output_type": "execute_result"
    }
   ],
   "source": [
    "ret=db.as_retriever()\n",
    "ret.invoke(query)[0].page_content"
   ]
  },
  {
   "cell_type": "code",
   "execution_count": null,
   "id": "baa5d9be",
   "metadata": {},
   "outputs": [],
   "source": []
  }
 ],
 "metadata": {
  "kernelspec": {
   "display_name": "lenv",
   "language": "python",
   "name": "python3"
  },
  "language_info": {
   "codemirror_mode": {
    "name": "ipython",
    "version": 3
   },
   "file_extension": ".py",
   "mimetype": "text/x-python",
   "name": "python",
   "nbconvert_exporter": "python",
   "pygments_lexer": "ipython3",
   "version": "3.12.4"
  }
 },
 "nbformat": 4,
 "nbformat_minor": 5
}
